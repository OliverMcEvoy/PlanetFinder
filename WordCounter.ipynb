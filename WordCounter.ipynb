{
 "cells": [
  {
   "cell_type": "markdown",
   "id": "3f05ffc3",
   "metadata": {},
   "source": [
    "# Wordcount of Jupyter Notebooks\n",
    "\n",
    "You can use this notebook to do a wordcount on Coursework B"
   ]
  },
  {
   "cell_type": "code",
   "execution_count": 44,
   "id": "8d96c4d9",
   "metadata": {},
   "outputs": [],
   "source": [
    "##Import needed\n",
    "import json"
   ]
  },
  {
   "cell_type": "markdown",
   "id": "cb93b4ca",
   "metadata": {},
   "source": [
    "## Enter the name of the notebook you want to count here\n",
    "\n",
    "Make sure to run this if you change the filename."
   ]
  },
  {
   "cell_type": "code",
   "execution_count": 45,
   "id": "2c05e389",
   "metadata": {},
   "outputs": [],
   "source": [
    "count_nb = 'Coursework_B_24474.ipynb'"
   ]
  },
  {
   "cell_type": "code",
   "execution_count": 46,
   "id": "fbf45cd7",
   "metadata": {},
   "outputs": [
    {
     "name": "stdout",
     "output_type": "stream",
     "text": [
      "%%%%%%%%%%%%%%%%%%%%%%%%%%%%%%%%%%%%%%%%%%%%%%%%%%%%%%%%%%%\n",
      "\n",
      "Cell Starting with: \n",
      " [\"<h1 align = 'center'> Comparisons of the applications of a proceduraly generated lightcruve model in finding transiting exoplanets traditionally and using a convolution neural network </h1>\"] \n",
      " has 26 words.\n",
      "\n",
      "%%%%%%%%%%%%%%%%%%%%%%%%%%%%%%%%%%%%%%%%%%%%%%%%%%%%%%%%%%%\n",
      "%%%%%%%%%%%%%%%%%%%%%%%%%%%%%%%%%%%%%%%%%%%%%%%%%%%%%%%%%%%\n",
      "\n",
      "Cell Starting with: \n",
      " ['\\n', '<b>Candidate number: 24474</b>\\n'] \n",
      " has 13 words.\n",
      "\n",
      "%%%%%%%%%%%%%%%%%%%%%%%%%%%%%%%%%%%%%%%%%%%%%%%%%%%%%%%%%%%\n",
      "%%%%%%%%%%%%%%%%%%%%%%%%%%%%%%%%%%%%%%%%%%%%%%%%%%%%%%%%%%%\n",
      "\n",
      "Cell Starting with: \n",
      " [\"<h3 align = 'center'> Abstract </h3> \\n\", '\\n'] \n",
      " has 204 words.\n",
      "\n",
      "%%%%%%%%%%%%%%%%%%%%%%%%%%%%%%%%%%%%%%%%%%%%%%%%%%%%%%%%%%%\n",
      "%%%%%%%%%%%%%%%%%%%%%%%%%%%%%%%%%%%%%%%%%%%%%%%%%%%%%%%%%%%\n",
      "\n",
      "Cell Starting with: \n",
      " ['<h2 align=\"center\">  1. Introduction: </h2>\\n', '\\n'] \n",
      " has 602 words.\n",
      "\n",
      "%%%%%%%%%%%%%%%%%%%%%%%%%%%%%%%%%%%%%%%%%%%%%%%%%%%%%%%%%%%\n",
      "%%%%%%%%%%%%%%%%%%%%%%%%%%%%%%%%%%%%%%%%%%%%%%%%%%%%%%%%%%%\n",
      "\n",
      "Cell Starting with: \n",
      " ['</br>\\n', '\\n'] \n",
      " has 650 words.\n",
      "\n",
      "%%%%%%%%%%%%%%%%%%%%%%%%%%%%%%%%%%%%%%%%%%%%%%%%%%%%%%%%%%%\n",
      "%%%%%%%%%%%%%%%%%%%%%%%%%%%%%%%%%%%%%%%%%%%%%%%%%%%%%%%%%%%\n",
      "\n",
      "Cell Starting with: \n",
      " [\"<h2 align='center'> 3. Analysis of the results and Discussion</h2>\\n\", '</br>\\n'] \n",
      " has 1385 words.\n",
      "\n",
      "%%%%%%%%%%%%%%%%%%%%%%%%%%%%%%%%%%%%%%%%%%%%%%%%%%%%%%%%%%%\n",
      "%%%%%%%%%%%%%%%%%%%%%%%%%%%%%%%%%%%%%%%%%%%%%%%%%%%%%%%%%%%\n",
      "\n",
      "Cell Starting with: \n",
      " ['$$\\n', '\\\\begin{array}{cc}\\n'] \n",
      " has 398 words.\n",
      "\n",
      "%%%%%%%%%%%%%%%%%%%%%%%%%%%%%%%%%%%%%%%%%%%%%%%%%%%%%%%%%%%\n",
      "%%%%%%%%%%%%%%%%%%%%%%%%%%%%%%%%%%%%%%%%%%%%%%%%%%%%%%%%%%%\n",
      "\n",
      "Cell Starting with: \n",
      " [\"<h3 align = 'center'> 3.4. Future Improvements and Observations </h3>\\n\", '\\n'] \n",
      " has 285 words.\n",
      "\n",
      "%%%%%%%%%%%%%%%%%%%%%%%%%%%%%%%%%%%%%%%%%%%%%%%%%%%%%%%%%%%\n",
      "%%%%%%%%%%%%%%%%%%%%%%%%%%%%%%%%%%%%%%%%%%%%%%%%%%%%%%%%%%%\n",
      "\n",
      "Cell Starting with: \n",
      " [\"<h2 align = 'center'> 4. Summary </h2>\\n\", '\\n'] \n",
      " has 160 words.\n",
      "\n",
      "%%%%%%%%%%%%%%%%%%%%%%%%%%%%%%%%%%%%%%%%%%%%%%%%%%%%%%%%%%%\n",
      "%%%%%%%%%%%%%%%%%%%%%%%%%%%%%%%%%%%%%%%%%%%%%%%%%%%%%%%%%%%\n",
      "\n",
      "Cell Starting with: \n",
      " ['### References:\\n', '\\n'] \n",
      " has 256 words.\n",
      "\n",
      "%%%%%%%%%%%%%%%%%%%%%%%%%%%%%%%%%%%%%%%%%%%%%%%%%%%%%%%%%%%\n",
      "%%%%%%%%%%%%%%%%%%%%%%%%%%%%%%%%%%%%%%%%%%%%%%%%%%%%%%%%%%%\n",
      "\n",
      "Cell Starting with: \n",
      " [\"<h2 align='center'>  5. Appendix <h2>\"] \n",
      " has 5 words.\n",
      "\n",
      "%%%%%%%%%%%%%%%%%%%%%%%%%%%%%%%%%%%%%%%%%%%%%%%%%%%%%%%%%%%\n",
      "%%%%%%%%%%%%%%%%%%%%%%%%%%%%%%%%%%%%%%%%%%%%%%%%%%%%%%%%%%%\n",
      "\n",
      "Overall word count in markdown cells is 3984\n",
      "\n",
      "%%%%%%%%%%%%%%%%%%%%%%%%%%%%%%%%%%%%%%%%%%%%%%%%%%%%%%%%%%%\n",
      "\n",
      "Done counting words in notebook Coursework_B_24474.ipynb\n"
     ]
    }
   ],
   "source": [
    "## Loading the data\n",
    "with open(count_nb) as json_file:\n",
    "    data = json.load(json_file)\n",
    "\n",
    "#setting the starting wordcount to 0\n",
    "wordCount = 0\n",
    "for each in data['cells']: # Looping over cells\n",
    "    cellType = each['cell_type']\n",
    "    if cellType == \"markdown\": # checking if the cell is markdown\n",
    "        content = each['source']\n",
    "        cell_wc = 0 ## starting the cell wordcount\n",
    "        for line in content: ## looping over lines in cell\n",
    "            temp = [word for word in line.split() if \"#\" not in word] # we might need to filter for more markdown keywords here\n",
    "            wordCount = wordCount + len(temp) ## increasing overall wordcount\n",
    "            cell_wc += len(temp) ## increasing cell wordcount\n",
    "        ## Printing info\n",
    "        print('%%%%%%%%%%%%%%%%%%%%%%%%%%%%%%%%%%%%%%%%%%%%%%%%%%%%%%%%%%%')\n",
    "        print('')\n",
    "        print(\"Cell Starting with: \\n %s \\n has %i words.\" %(content[0:2], cell_wc))\n",
    "        print('')\n",
    "        print('%%%%%%%%%%%%%%%%%%%%%%%%%%%%%%%%%%%%%%%%%%%%%%%%%%%%%%%%%%%')\n",
    "print('%%%%%%%%%%%%%%%%%%%%%%%%%%%%%%%%%%%%%%%%%%%%%%%%%%%%%%%%%%%')\n",
    "print('')\n",
    "print(\"Overall word count in markdown cells is \" + str(wordCount))\n",
    "print('')\n",
    "print('%%%%%%%%%%%%%%%%%%%%%%%%%%%%%%%%%%%%%%%%%%%%%%%%%%%%%%%%%%%')\n",
    "print('')\n",
    "print('Done counting words in notebook %s' %count_nb)"
   ]
  },
  {
   "cell_type": "code",
   "execution_count": null,
   "id": "0847b48c",
   "metadata": {},
   "outputs": [],
   "source": []
  }
 ],
 "metadata": {
  "kernelspec": {
   "display_name": "Python 3 (ipykernel)",
   "language": "python",
   "name": "python3"
  },
  "language_info": {
   "codemirror_mode": {
    "name": "ipython",
    "version": 3
   },
   "file_extension": ".py",
   "mimetype": "text/x-python",
   "name": "python",
   "nbconvert_exporter": "python",
   "pygments_lexer": "ipython3",
   "version": "3.11.10"
  }
 },
 "nbformat": 4,
 "nbformat_minor": 5
}
