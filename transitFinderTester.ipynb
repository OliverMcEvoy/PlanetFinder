{
 "cells": [
  {
   "cell_type": "code",
   "execution_count": 1,
   "metadata": {},
   "outputs": [
    {
     "name": "stderr",
     "output_type": "stream",
     "text": [
      "WARNING (pytensor.tensor.blas): Using NumPy C-API based implementation for BLAS functions.\n"
     ]
    }
   ],
   "source": [
    "import h5py\n",
    "import numpy as np\n",
    "import torch\n",
    "import torch.nn as nn\n",
    "import torch.optim as optim\n",
    "import torch.nn.functional as F\n",
    "import matplotlib.pyplot as plt\n",
    "from torch.utils.data import DataLoader, TensorDataset\n",
    "import exoplanet\n",
    "from transitFinder import TransitModel, plot_light_curves\n",
    "\n"
   ]
  },
  {
   "cell_type": "code",
   "execution_count": 2,
   "metadata": {},
   "outputs": [
    {
     "name": "stdout",
     "output_type": "stream",
     "text": [
      "12.4\n"
     ]
    }
   ],
   "source": [
    "print(torch.version.cuda)  # Check the installed CUDA version"
   ]
  },
  {
   "cell_type": "code",
   "execution_count": 3,
   "metadata": {},
   "outputs": [],
   "source": [
    "# Define the function to generate the light curve\n",
    "def generate_multi_planet_light_curve(planets, star_radius=1.0, observation_noise=0.001, total_time=365, snr_threshold=5, u1=0.3, u2=0.2, cadence=0.2):\n",
    "      time = np.arange(0, total_time, cadence)\n",
    "      planet_light_curves = np.zeros_like(time)\n",
    "      individual_light_curves = []\n",
    "      \n",
    "      detected_count = 0\n",
    "      star_radius_squared = star_radius ** 2\n",
    "\n",
    "      for planet in planets:\n",
    "            period = planet['period']\n",
    "            rp = planet['rp'] * star_radius\n",
    "            a = planet['a']\n",
    "            incl = planet['incl']\n",
    "            t0 = planet['transit_midpoint']\n",
    "            \n",
    "            orbit = exoplanet.orbits.KeplerianOrbit(period=period, t0=t0, a=a, incl=incl)\n",
    "            light_curve_model = exoplanet.LimbDarkLightCurve([u1, u2]).get_light_curve(\n",
    "                  orbit=orbit, r=rp, t=time\n",
    "            ).eval().flatten()\n",
    "\n",
    "            planet_light_curves += light_curve_model\n",
    "            \n",
    "            transit_depth = (rp ** 2) / star_radius_squared\n",
    "            snr = transit_depth / observation_noise\n",
    "\n",
    "            if snr > snr_threshold:\n",
    "                  detected_count += 1\n",
    "                  individual_light_curves.append(light_curve_model)\n",
    "      \n",
    "      flux_with_noise = planet_light_curves + np.random.normal(0, observation_noise, len(time))\n",
    "      \n",
    "      return time, flux_with_noise, planet_light_curves, detected_count, individual_light_curves\n",
    "\n"
   ]
  },
  {
   "cell_type": "code",
   "execution_count": 4,
   "metadata": {},
   "outputs": [],
   "source": [
    "# Define the function to load the model and make predictions\n",
    "def load_model_and_predict(model_path, planets):\n",
    "      # Generate the light curve\n",
    "      time, flux_with_noise, planet_light_curves, detected_count, individual_light_curves = generate_multi_planet_light_curve(planets)\n",
    "      \n",
    "      # Load the trained model\n",
    "      device = torch.device(\"cuda\" if torch.cuda.is_available() else \"cpu\")\n",
    "      if torch.cuda.is_available():\n",
    "            print(\"CUDA is available. Using GPU.\")\n",
    "      else:\n",
    "            print(\"CUDA is not available. Using CPU.\")\n",
    "      \n",
    "      max_flux_len = len(flux_with_noise)\n",
    "      max_time_len = len(time)\n",
    "      \n",
    "      model = TransitModel(max_flux_len=max_flux_len, max_time_len=max_time_len).to(device)\n",
    "      model.load_state_dict(torch.load(model_path, map_location=device))\n",
    "      model.eval()\n",
    "      \n",
    "      # Preprocess the generated light curve\n",
    "      flux_with_noise_tensor = torch.tensor(flux_with_noise, dtype=torch.float32).unsqueeze(0).to(device)\n",
    "      time_tensor = torch.tensor(time, dtype=torch.float32).unsqueeze(0).to(device)\n",
    "      \n",
    "      # Make predictions\n",
    "      with torch.no_grad():\n",
    "            detected_count_pred, individual_light_curves_flux_pred, individual_light_curves_time_pred = model(flux_with_noise_tensor, time_tensor)\n",
    "      \n",
    "      # Plot the results\n",
    "      plot_light_curves(detected_count_pred.cpu(), individual_light_curves_flux_pred.cpu(), individual_light_curves_time_pred.cpu())\n",
    "\n"
   ]
  },
  {
   "cell_type": "code",
   "execution_count": 5,
   "metadata": {},
   "outputs": [
    {
     "name": "stdout",
     "output_type": "stream",
     "text": [
      "CUDA is available. Using GPU.\n"
     ]
    },
    {
     "name": "stderr",
     "output_type": "stream",
     "text": [
      "/tmp/ipykernel_5195/4102927856.py:17: FutureWarning: You are using `torch.load` with `weights_only=False` (the current default value), which uses the default pickle module implicitly. It is possible to construct malicious pickle data which will execute arbitrary code during unpickling (See https://github.com/pytorch/pytorch/blob/main/SECURITY.md#untrusted-models for more details). In a future release, the default value for `weights_only` will be flipped to `True`. This limits the functions that could be executed during unpickling. Arbitrary objects will no longer be allowed to be loaded via this mode unless they are explicitly allowlisted by the user via `torch.serialization.add_safe_globals`. We recommend you start setting `weights_only=True` for any use case where you don't have full control of the loaded file. Please open an issue on GitHub for any issues related to this experimental feature.\n",
      "  model.load_state_dict(torch.load(model_path, map_location=device))\n"
     ]
    },
    {
     "ename": "RuntimeError",
     "evalue": "Error(s) in loading state_dict for TransitModel:\n\tMissing key(s) in state_dict: \"flux_input.weight\", \"flux_input.bias\", \"time_input.weight\", \"time_input.bias\", \"concat.0.weight\", \"concat.0.bias\", \"bayesian1.weight_mean\", \"bayesian1.weight_std\", \"bayesian1.bias_mean\", \"bayesian1.bias_std\", \"bayesian2.weight_mean\", \"bayesian2.weight_std\", \"bayesian2.bias_mean\", \"bayesian2.bias_std\", \"detected_count_output.weight\", \"detected_count_output.bias\", \"individual_light_curves_flux_output.weight\", \"individual_light_curves_flux_output.bias\", \"individual_light_curves_time_output.weight\", \"individual_light_curves_time_output.bias\". \n\tUnexpected key(s) in state_dict: \"model_state_dict\". ",
     "output_type": "error",
     "traceback": [
      "\u001b[0;31m---------------------------------------------------------------------------\u001b[0m",
      "\u001b[0;31mRuntimeError\u001b[0m                              Traceback (most recent call last)",
      "Cell \u001b[0;32mIn[5], line 7\u001b[0m\n\u001b[1;32m      1\u001b[0m \u001b[38;5;66;03m# Example usage\u001b[39;00m\n\u001b[1;32m      2\u001b[0m planets \u001b[38;5;241m=\u001b[39m [\n\u001b[1;32m      3\u001b[0m     {\u001b[38;5;124m'\u001b[39m\u001b[38;5;124mperiod\u001b[39m\u001b[38;5;124m'\u001b[39m: \u001b[38;5;241m10\u001b[39m, \u001b[38;5;124m'\u001b[39m\u001b[38;5;124mrp\u001b[39m\u001b[38;5;124m'\u001b[39m: \u001b[38;5;241m0.1\u001b[39m, \u001b[38;5;124m'\u001b[39m\u001b[38;5;124ma\u001b[39m\u001b[38;5;124m'\u001b[39m: \u001b[38;5;241m0.1\u001b[39m, \u001b[38;5;124m'\u001b[39m\u001b[38;5;124mincl\u001b[39m\u001b[38;5;124m'\u001b[39m: np\u001b[38;5;241m.\u001b[39mpi\u001b[38;5;241m/\u001b[39m\u001b[38;5;241m2\u001b[39m, \u001b[38;5;124m'\u001b[39m\u001b[38;5;124mtransit_midpoint\u001b[39m\u001b[38;5;124m'\u001b[39m: \u001b[38;5;241m5\u001b[39m},\n\u001b[1;32m      4\u001b[0m     {\u001b[38;5;124m'\u001b[39m\u001b[38;5;124mperiod\u001b[39m\u001b[38;5;124m'\u001b[39m: \u001b[38;5;241m20\u001b[39m, \u001b[38;5;124m'\u001b[39m\u001b[38;5;124mrp\u001b[39m\u001b[38;5;124m'\u001b[39m: \u001b[38;5;241m0.2\u001b[39m, \u001b[38;5;124m'\u001b[39m\u001b[38;5;124ma\u001b[39m\u001b[38;5;124m'\u001b[39m: \u001b[38;5;241m0.2\u001b[39m, \u001b[38;5;124m'\u001b[39m\u001b[38;5;124mincl\u001b[39m\u001b[38;5;124m'\u001b[39m: np\u001b[38;5;241m.\u001b[39mpi\u001b[38;5;241m/\u001b[39m\u001b[38;5;241m2\u001b[39m, \u001b[38;5;124m'\u001b[39m\u001b[38;5;124mtransit_midpoint\u001b[39m\u001b[38;5;124m'\u001b[39m: \u001b[38;5;241m10\u001b[39m},\n\u001b[1;32m      5\u001b[0m ]\n\u001b[0;32m----> 7\u001b[0m \u001b[43mload_model_and_predict\u001b[49m\u001b[43m(\u001b[49m\u001b[38;5;124;43m\"\u001b[39;49m\u001b[38;5;124;43mtransit_model.pth\u001b[39;49m\u001b[38;5;124;43m\"\u001b[39;49m\u001b[43m,\u001b[49m\u001b[43m \u001b[49m\u001b[43mplanets\u001b[49m\u001b[43m)\u001b[49m\n",
      "Cell \u001b[0;32mIn[4], line 17\u001b[0m, in \u001b[0;36mload_model_and_predict\u001b[0;34m(model_path, planets)\u001b[0m\n\u001b[1;32m     14\u001b[0m max_time_len \u001b[38;5;241m=\u001b[39m \u001b[38;5;28mlen\u001b[39m(time)\n\u001b[1;32m     16\u001b[0m model \u001b[38;5;241m=\u001b[39m TransitModel(max_flux_len\u001b[38;5;241m=\u001b[39mmax_flux_len, max_time_len\u001b[38;5;241m=\u001b[39mmax_time_len)\u001b[38;5;241m.\u001b[39mto(device)\n\u001b[0;32m---> 17\u001b[0m \u001b[43mmodel\u001b[49m\u001b[38;5;241;43m.\u001b[39;49m\u001b[43mload_state_dict\u001b[49m\u001b[43m(\u001b[49m\u001b[43mtorch\u001b[49m\u001b[38;5;241;43m.\u001b[39;49m\u001b[43mload\u001b[49m\u001b[43m(\u001b[49m\u001b[43mmodel_path\u001b[49m\u001b[43m,\u001b[49m\u001b[43m \u001b[49m\u001b[43mmap_location\u001b[49m\u001b[38;5;241;43m=\u001b[39;49m\u001b[43mdevice\u001b[49m\u001b[43m)\u001b[49m\u001b[43m)\u001b[49m\n\u001b[1;32m     18\u001b[0m model\u001b[38;5;241m.\u001b[39meval()\n\u001b[1;32m     20\u001b[0m \u001b[38;5;66;03m# Preprocess the generated light curve\u001b[39;00m\n",
      "File \u001b[0;32m~/AstroCourseworkB/astro_env/lib64/python3.11/site-packages/torch/nn/modules/module.py:2584\u001b[0m, in \u001b[0;36mModule.load_state_dict\u001b[0;34m(self, state_dict, strict, assign)\u001b[0m\n\u001b[1;32m   2576\u001b[0m         error_msgs\u001b[38;5;241m.\u001b[39minsert(\n\u001b[1;32m   2577\u001b[0m             \u001b[38;5;241m0\u001b[39m,\n\u001b[1;32m   2578\u001b[0m             \u001b[38;5;124m\"\u001b[39m\u001b[38;5;124mMissing key(s) in state_dict: \u001b[39m\u001b[38;5;132;01m{}\u001b[39;00m\u001b[38;5;124m. \u001b[39m\u001b[38;5;124m\"\u001b[39m\u001b[38;5;241m.\u001b[39mformat(\n\u001b[1;32m   2579\u001b[0m                 \u001b[38;5;124m\"\u001b[39m\u001b[38;5;124m, \u001b[39m\u001b[38;5;124m\"\u001b[39m\u001b[38;5;241m.\u001b[39mjoin(\u001b[38;5;124mf\u001b[39m\u001b[38;5;124m'\u001b[39m\u001b[38;5;124m\"\u001b[39m\u001b[38;5;132;01m{\u001b[39;00mk\u001b[38;5;132;01m}\u001b[39;00m\u001b[38;5;124m\"\u001b[39m\u001b[38;5;124m'\u001b[39m \u001b[38;5;28;01mfor\u001b[39;00m k \u001b[38;5;129;01min\u001b[39;00m missing_keys)\n\u001b[1;32m   2580\u001b[0m             ),\n\u001b[1;32m   2581\u001b[0m         )\n\u001b[1;32m   2583\u001b[0m \u001b[38;5;28;01mif\u001b[39;00m \u001b[38;5;28mlen\u001b[39m(error_msgs) \u001b[38;5;241m>\u001b[39m \u001b[38;5;241m0\u001b[39m:\n\u001b[0;32m-> 2584\u001b[0m     \u001b[38;5;28;01mraise\u001b[39;00m \u001b[38;5;167;01mRuntimeError\u001b[39;00m(\n\u001b[1;32m   2585\u001b[0m         \u001b[38;5;124m\"\u001b[39m\u001b[38;5;124mError(s) in loading state_dict for \u001b[39m\u001b[38;5;132;01m{}\u001b[39;00m\u001b[38;5;124m:\u001b[39m\u001b[38;5;130;01m\\n\u001b[39;00m\u001b[38;5;130;01m\\t\u001b[39;00m\u001b[38;5;132;01m{}\u001b[39;00m\u001b[38;5;124m\"\u001b[39m\u001b[38;5;241m.\u001b[39mformat(\n\u001b[1;32m   2586\u001b[0m             \u001b[38;5;28mself\u001b[39m\u001b[38;5;241m.\u001b[39m\u001b[38;5;18m__class__\u001b[39m\u001b[38;5;241m.\u001b[39m\u001b[38;5;18m__name__\u001b[39m, \u001b[38;5;124m\"\u001b[39m\u001b[38;5;130;01m\\n\u001b[39;00m\u001b[38;5;130;01m\\t\u001b[39;00m\u001b[38;5;124m\"\u001b[39m\u001b[38;5;241m.\u001b[39mjoin(error_msgs)\n\u001b[1;32m   2587\u001b[0m         )\n\u001b[1;32m   2588\u001b[0m     )\n\u001b[1;32m   2589\u001b[0m \u001b[38;5;28;01mreturn\u001b[39;00m _IncompatibleKeys(missing_keys, unexpected_keys)\n",
      "\u001b[0;31mRuntimeError\u001b[0m: Error(s) in loading state_dict for TransitModel:\n\tMissing key(s) in state_dict: \"flux_input.weight\", \"flux_input.bias\", \"time_input.weight\", \"time_input.bias\", \"concat.0.weight\", \"concat.0.bias\", \"bayesian1.weight_mean\", \"bayesian1.weight_std\", \"bayesian1.bias_mean\", \"bayesian1.bias_std\", \"bayesian2.weight_mean\", \"bayesian2.weight_std\", \"bayesian2.bias_mean\", \"bayesian2.bias_std\", \"detected_count_output.weight\", \"detected_count_output.bias\", \"individual_light_curves_flux_output.weight\", \"individual_light_curves_flux_output.bias\", \"individual_light_curves_time_output.weight\", \"individual_light_curves_time_output.bias\". \n\tUnexpected key(s) in state_dict: \"model_state_dict\". "
     ]
    }
   ],
   "source": [
    "# Example usage\n",
    "planets = [\n",
    "    {'period': 10, 'rp': 0.1, 'a': 0.1, 'incl': np.pi/2, 'transit_midpoint': 5},\n",
    "    {'period': 20, 'rp': 0.2, 'a': 0.2, 'incl': np.pi/2, 'transit_midpoint': 10},\n",
    "]\n",
    "\n",
    "load_model_and_predict(\"transit_model.pth\", planets)"
   ]
  },
  {
   "cell_type": "code",
   "execution_count": null,
   "metadata": {},
   "outputs": [],
   "source": []
  }
 ],
 "metadata": {
  "kernelspec": {
   "display_name": "astro_env",
   "language": "python",
   "name": "python3"
  },
  "language_info": {
   "codemirror_mode": {
    "name": "ipython",
    "version": 3
   },
   "file_extension": ".py",
   "mimetype": "text/x-python",
   "name": "python",
   "nbconvert_exporter": "python",
   "pygments_lexer": "ipython3",
   "version": "3.11.10"
  }
 },
 "nbformat": 4,
 "nbformat_minor": 2
}
