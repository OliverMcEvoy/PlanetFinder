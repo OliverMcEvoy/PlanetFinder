{
 "cells": [
  {
   "cell_type": "code",
   "execution_count": 16,
   "metadata": {},
   "outputs": [],
   "source": [
    "from astropy.io import fits \n",
    "from astropy import constants\n",
    "from astropy.timeseries import BoxLeastSquares \n",
    "import glob\n",
    "import matplotlib.pyplot as plt \n",
    "import numpy as np\n",
    "import pandas as pd\n",
    "import scipy.signal\n",
    "from scipy.signal import savgol_filter\n",
    "from scipy.signal import lombscargle\n",
    "from scipy.optimize import minimize\n",
    "from lightkurve import search_lightcurve"
   ]
  },
  {
   "cell_type": "code",
   "execution_count": 17,
   "metadata": {},
   "outputs": [],
   "source": [
    "def fetch_and_normalize_kepler_data(target):\n",
    "    # Search for light curves for the target across all quarters\n",
    "    search_result = search_lightcurve(target, mission=\"Kepler\")\n",
    "    lc_collection = search_result.download_all()\n",
    "    \n",
    "    # Initialize empty arrays for time, flux, and error\n",
    "    time, flux, error = np.array([]), np.array([]), np.array([])\n",
    "    \n",
    "    # Iterate through the downloaded light curves\n",
    "    for lc in lc_collection:\n",
    "        lc_data = lc.normalize().remove_nans()  # Normalize and remove NaNs\n",
    "        \n",
    "        # Extract time, flux, and flux error\n",
    "        tmptime = lc_data.time.value\n",
    "        tmpflux = lc_data.flux.value\n",
    "        tmperror = lc_data.flux_err.value\n",
    "        \n",
    "        # Dynamically adjust window_length for Savitzky-Golay filter\n",
    "        array_size = len(tmpflux)\n",
    "        window_length = min(701, array_size - (array_size % 2 == 0))  # Ensure odd window_length\n",
    "        \n",
    "        if window_length > 2:  # Apply filter only if sufficient data points exist\n",
    "            interp_savgol = savgol_filter(tmpflux, window_length=window_length, polyorder=3)\n",
    "        else:\n",
    "            interp_savgol = np.ones_like(tmpflux)  # Default to ones if filtering isn't possible\n",
    "        \n",
    "        # Normalize the flux\n",
    "        time = np.append(time, tmptime)\n",
    "        flux = np.append(flux, tmpflux / interp_savgol)\n",
    "        error = np.append(error, tmperror / interp_savgol)\n",
    "    \n",
    "    # Create a DataFrame\n",
    "    df = pd.DataFrame(\n",
    "        {\n",
    "            \"time\": time,\n",
    "            \"flux\": flux,\n",
    "            \"error\": error,\n",
    "        }\n",
    "    )\n",
    "    \n",
    "    # Data filtering\n",
    "    mean_flux = np.mean(flux)\n",
    "    std_flux = np.std(flux)\n",
    "    df = df[(df[\"flux\"] <= mean_flux + 2 * std_flux) & (df[\"flux\"] >= mean_flux - 8 * std_flux)]\n",
    "    \n",
    "    return df\n"
   ]
  },
  {
   "cell_type": "code",
   "execution_count": 18,
   "metadata": {},
   "outputs": [
    {
     "name": "stderr",
     "output_type": "stream",
     "text": [
      "/tmp/ipykernel_129718/693329049.py:11: LightkurveDeprecationWarning: The PDCSAP_FLUX function is deprecated and may be removed in a future version.\n",
      "  lc_data = lc.PDCSAP_FLUX.remove_nans()  # Remove NaNs\n"
     ]
    },
    {
     "ename": "ValueError",
     "evalue": "If mode is 'interp', window_length must be less than or equal to the size of x.",
     "output_type": "error",
     "traceback": [
      "\u001b[0;31m---------------------------------------------------------------------------\u001b[0m",
      "\u001b[0;31mValueError\u001b[0m                                Traceback (most recent call last)",
      "Cell \u001b[0;32mIn[18], line 2\u001b[0m\n\u001b[1;32m      1\u001b[0m target \u001b[38;5;241m=\u001b[39m \u001b[38;5;124m\"\u001b[39m\u001b[38;5;124mKepler-10\u001b[39m\u001b[38;5;124m\"\u001b[39m \n\u001b[0;32m----> 2\u001b[0m df \u001b[38;5;241m=\u001b[39m \u001b[43mfetch_and_normalize_kepler_data\u001b[49m\u001b[43m(\u001b[49m\u001b[43mtarget\u001b[49m\u001b[43m)\u001b[49m\n",
      "Cell \u001b[0;32mIn[17], line 19\u001b[0m, in \u001b[0;36mfetch_and_normalize_kepler_data\u001b[0;34m(target)\u001b[0m\n\u001b[1;32m     16\u001b[0m tmperror \u001b[38;5;241m=\u001b[39m lc_data\u001b[38;5;241m.\u001b[39mflux_err\u001b[38;5;241m.\u001b[39mvalue\n\u001b[1;32m     18\u001b[0m \u001b[38;5;66;03m# Normalize the flux using a Savitzky-Golay filter\u001b[39;00m\n\u001b[0;32m---> 19\u001b[0m interp_savgol \u001b[38;5;241m=\u001b[39m \u001b[43msavgol_filter\u001b[49m\u001b[43m(\u001b[49m\u001b[43mtmpflux\u001b[49m\u001b[43m,\u001b[49m\u001b[43m \u001b[49m\u001b[43mwindow_length\u001b[49m\u001b[38;5;241;43m=\u001b[39;49m\u001b[38;5;241;43m701\u001b[39;49m\u001b[43m,\u001b[49m\u001b[43m \u001b[49m\u001b[43mpolyorder\u001b[49m\u001b[38;5;241;43m=\u001b[39;49m\u001b[38;5;241;43m3\u001b[39;49m\u001b[43m)\u001b[49m\n\u001b[1;32m     21\u001b[0m time \u001b[38;5;241m=\u001b[39m np\u001b[38;5;241m.\u001b[39mappend(time, tmptime)\n\u001b[1;32m     22\u001b[0m flux \u001b[38;5;241m=\u001b[39m np\u001b[38;5;241m.\u001b[39mappend(flux, tmpflux \u001b[38;5;241m/\u001b[39m interp_savgol)\n",
      "File \u001b[0;32m~/AstroCourseworkB/astro_env/lib64/python3.11/site-packages/scipy/signal/_savitzky_golay.py:345\u001b[0m, in \u001b[0;36msavgol_filter\u001b[0;34m(x, window_length, polyorder, deriv, delta, axis, mode, cval)\u001b[0m\n\u001b[1;32m    343\u001b[0m \u001b[38;5;28;01mif\u001b[39;00m mode \u001b[38;5;241m==\u001b[39m \u001b[38;5;124m\"\u001b[39m\u001b[38;5;124minterp\u001b[39m\u001b[38;5;124m\"\u001b[39m:\n\u001b[1;32m    344\u001b[0m     \u001b[38;5;28;01mif\u001b[39;00m window_length \u001b[38;5;241m>\u001b[39m x\u001b[38;5;241m.\u001b[39mshape[axis]:\n\u001b[0;32m--> 345\u001b[0m         \u001b[38;5;28;01mraise\u001b[39;00m \u001b[38;5;167;01mValueError\u001b[39;00m(\u001b[38;5;124m\"\u001b[39m\u001b[38;5;124mIf mode is \u001b[39m\u001b[38;5;124m'\u001b[39m\u001b[38;5;124minterp\u001b[39m\u001b[38;5;124m'\u001b[39m\u001b[38;5;124m, window_length must be less \u001b[39m\u001b[38;5;124m\"\u001b[39m\n\u001b[1;32m    346\u001b[0m                          \u001b[38;5;124m\"\u001b[39m\u001b[38;5;124mthan or equal to the size of x.\u001b[39m\u001b[38;5;124m\"\u001b[39m)\n\u001b[1;32m    348\u001b[0m     \u001b[38;5;66;03m# Do not pad. Instead, for the elements within `window_length // 2`\u001b[39;00m\n\u001b[1;32m    349\u001b[0m     \u001b[38;5;66;03m# of the ends of the sequence, use the polynomial that is fitted to\u001b[39;00m\n\u001b[1;32m    350\u001b[0m     \u001b[38;5;66;03m# the last `window_length` elements.\u001b[39;00m\n\u001b[1;32m    351\u001b[0m     y \u001b[38;5;241m=\u001b[39m convolve1d(x, coeffs, axis\u001b[38;5;241m=\u001b[39maxis, mode\u001b[38;5;241m=\u001b[39m\u001b[38;5;124m\"\u001b[39m\u001b[38;5;124mconstant\u001b[39m\u001b[38;5;124m\"\u001b[39m)\n",
      "\u001b[0;31mValueError\u001b[0m: If mode is 'interp', window_length must be less than or equal to the size of x."
     ]
    }
   ],
   "source": [
    "target = \"Kepler-10\" \n",
    "df = fetch_and_normalize_kepler_data(target)"
   ]
  },
  {
   "cell_type": "code",
   "execution_count": null,
   "metadata": {},
   "outputs": [],
   "source": [
    "def normalise_kelpler_data():\n",
    "    time, flux, error = np.array([]), np.array([]), np.array([])\n",
    "    for lcfile in glob.glob(\"Data/Objectlc/kplr*.fits\"):\n",
    "        with fits.open(lcfile) as tmp:\n",
    "            tmptime = (tmp[1].data['TIME'])\n",
    "            tmpflux = (tmp[1].data['PDCSAP_FLUX'])\n",
    "            tmperror = (tmp[1].data['PDCSAP_FLUX_ERR'])\n",
    "\n",
    "            # Remove nan from flux, and shortening time based on nan values in flux\n",
    "            nan_flux = np.isnan(tmpflux)\n",
    "\n",
    "            tmptime = tmptime[~nan_flux]\n",
    "            tmpflux = tmpflux[~nan_flux]\n",
    "            tmperror = tmperror[~nan_flux]\n",
    "\n",
    "            # Normalise data\n",
    "            interp_savgol = savgol_filter(tmpflux, window_length=701, polyorder=3) \n",
    "\n",
    "            time = np.append(time, tmptime)\n",
    "            flux = np.append(flux, tmpflux/interp_savgol)\n",
    "            error = np.append(error, tmperror/interp_savgol)\n",
    "\n",
    "    df = pd.DataFrame(\n",
    "        {\n",
    "            \"time\": time,\n",
    "            \"flux\": flux,\n",
    "            \"error\": error\n",
    "        }\n",
    "    )\n",
    "\n",
    "    # Data filter\n",
    "    df = df[df[\"flux\"] <= np.mean(flux) + 2*np.std(flux)] \n",
    "    df = df[df[\"flux\"] >= np.mean(flux) - 8*np.std(flux)]\n",
    "    \n",
    "    return df"
   ]
  }
 ],
 "metadata": {
  "kernelspec": {
   "display_name": "astro_env",
   "language": "python",
   "name": "python3"
  },
  "language_info": {
   "codemirror_mode": {
    "name": "ipython",
    "version": 3
   },
   "file_extension": ".py",
   "mimetype": "text/x-python",
   "name": "python",
   "nbconvert_exporter": "python",
   "pygments_lexer": "ipython3",
   "version": "3.11.10"
  }
 },
 "nbformat": 4,
 "nbformat_minor": 2
}
